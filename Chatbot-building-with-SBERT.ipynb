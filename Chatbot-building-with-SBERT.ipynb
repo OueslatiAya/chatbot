{
 "cells": [
  {
   "cell_type": "code",
   "execution_count": 20,
   "id": "8b0b4794-237c-42e4-b605-75e6f19cb99d",
   "metadata": {},
   "outputs": [],
   "source": [
    "import numpy as np\n",
    "import pandas as pd"
   ]
  },
  {
   "cell_type": "code",
   "execution_count": 3,
   "id": "754dfd71-9750-4166-8605-01ef8d7b1858",
   "metadata": {},
   "outputs": [],
   "source": [
    "df=pd.read_excel(\"QA.xlsx\")"
   ]
  },
  {
   "cell_type": "code",
   "execution_count": 10,
   "id": "dbad9fe0-8d49-4ed4-b830-0471022a151c",
   "metadata": {},
   "outputs": [
    {
     "data": {
      "text/html": [
       "<div>\n",
       "<style scoped>\n",
       "    .dataframe tbody tr th:only-of-type {\n",
       "        vertical-align: middle;\n",
       "    }\n",
       "\n",
       "    .dataframe tbody tr th {\n",
       "        vertical-align: top;\n",
       "    }\n",
       "\n",
       "    .dataframe thead th {\n",
       "        text-align: right;\n",
       "    }\n",
       "</style>\n",
       "<table border=\"1\" class=\"dataframe\">\n",
       "  <thead>\n",
       "    <tr style=\"text-align: right;\">\n",
       "      <th></th>\n",
       "      <th>Question</th>\n",
       "      <th>Response</th>\n",
       "    </tr>\n",
       "  </thead>\n",
       "  <tbody>\n",
       "    <tr>\n",
       "      <th>0</th>\n",
       "      <td>How do I access the engine?</td>\n",
       "      <td>There is a generic user login and home page a...</td>\n",
       "    </tr>\n",
       "    <tr>\n",
       "      <th>1</th>\n",
       "      <td>How can I access the engine?</td>\n",
       "      <td>There is a generic user login and home page av...</td>\n",
       "    </tr>\n",
       "    <tr>\n",
       "      <th>2</th>\n",
       "      <td>How do I get to the engine?</td>\n",
       "      <td>There is a generic user login and home page a...</td>\n",
       "    </tr>\n",
       "    <tr>\n",
       "      <th>3</th>\n",
       "      <td>what can I do to access the Aitek engine ?</td>\n",
       "      <td>There is a generic user login and home page a...</td>\n",
       "    </tr>\n",
       "    <tr>\n",
       "      <th>4</th>\n",
       "      <td>How do I open the engine?</td>\n",
       "      <td>There is a generic user login and home page a...</td>\n",
       "    </tr>\n",
       "  </tbody>\n",
       "</table>\n",
       "</div>"
      ],
      "text/plain": [
       "                                      Question  \\\n",
       "0                  How do I access the engine?   \n",
       "1                 How can I access the engine?   \n",
       "2                  How do I get to the engine?   \n",
       "3   what can I do to access the Aitek engine ?   \n",
       "4                    How do I open the engine?   \n",
       "\n",
       "                                            Response  \n",
       "0   There is a generic user login and home page a...  \n",
       "1  There is a generic user login and home page av...  \n",
       "2   There is a generic user login and home page a...  \n",
       "3   There is a generic user login and home page a...  \n",
       "4   There is a generic user login and home page a...  "
      ]
     },
     "execution_count": 10,
     "metadata": {},
     "output_type": "execute_result"
    }
   ],
   "source": [
    "df.head()"
   ]
  },
  {
   "cell_type": "code",
   "execution_count": 7,
   "id": "13f76b0d-ea15-409d-8b26-a2ede6af4d14",
   "metadata": {},
   "outputs": [],
   "source": [
    "from sentence_transformers import SentenceTransformer"
   ]
  },
  {
   "cell_type": "code",
   "execution_count": 9,
   "id": "ebd7d8d2-5c6a-41d5-b68c-9df04013a8eb",
   "metadata": {
    "tags": []
   },
   "outputs": [
    {
     "data": {
      "application/vnd.jupyter.widget-view+json": {
       "model_id": "0827c6c2e36545859ce8c9a8030338e4",
       "version_major": 2,
       "version_minor": 0
      },
      "text/plain": [
       "Downloading pytorch_model.bin:   0%|          | 0.00/265M [00:00<?, ?B/s]"
      ]
     },
     "metadata": {},
     "output_type": "display_data"
    },
    {
     "data": {
      "application/vnd.jupyter.widget-view+json": {
       "model_id": "7ea3497103494a7aaed2567c4df56ce5",
       "version_major": 2,
       "version_minor": 0
      },
      "text/plain": [
       "Downloading (…)nce_bert_config.json:   0%|          | 0.00/53.0 [00:00<?, ?B/s]"
      ]
     },
     "metadata": {},
     "output_type": "display_data"
    },
    {
     "data": {
      "application/vnd.jupyter.widget-view+json": {
       "model_id": "9048997597fd447a9d6ea0446a07962b",
       "version_major": 2,
       "version_minor": 0
      },
      "text/plain": [
       "Downloading (…)cial_tokens_map.json:   0%|          | 0.00/112 [00:00<?, ?B/s]"
      ]
     },
     "metadata": {},
     "output_type": "display_data"
    },
    {
     "data": {
      "application/vnd.jupyter.widget-view+json": {
       "model_id": "2406f4bf4d0b4967abcaca0762d35fad",
       "version_major": 2,
       "version_minor": 0
      },
      "text/plain": [
       "Downloading (…)7e0d5/tokenizer.json:   0%|          | 0.00/466k [00:00<?, ?B/s]"
      ]
     },
     "metadata": {},
     "output_type": "display_data"
    },
    {
     "data": {
      "application/vnd.jupyter.widget-view+json": {
       "model_id": "f16406d909ce43f0ab52a57c1fe41ede",
       "version_major": 2,
       "version_minor": 0
      },
      "text/plain": [
       "Downloading (…)okenizer_config.json:   0%|          | 0.00/505 [00:00<?, ?B/s]"
      ]
     },
     "metadata": {},
     "output_type": "display_data"
    },
    {
     "data": {
      "application/vnd.jupyter.widget-view+json": {
       "model_id": "b62be8d2b1ad4fe489ff8b1518e2f1da",
       "version_major": 2,
       "version_minor": 0
      },
      "text/plain": [
       "Downloading (…)0e5ca7e0d5/vocab.txt:   0%|          | 0.00/232k [00:00<?, ?B/s]"
      ]
     },
     "metadata": {},
     "output_type": "display_data"
    },
    {
     "data": {
      "application/vnd.jupyter.widget-view+json": {
       "model_id": "03cba1171d80408b95718ca6ad57f524",
       "version_major": 2,
       "version_minor": 0
      },
      "text/plain": [
       "Downloading (…)ca7e0d5/modules.json:   0%|          | 0.00/229 [00:00<?, ?B/s]"
      ]
     },
     "metadata": {},
     "output_type": "display_data"
    }
   ],
   "source": [
    "# Load the pre-trained BERT model\n",
    "model = SentenceTransformer('distilbert-base-nli-stsb-mean-tokens')"
   ]
  },
  {
   "cell_type": "code",
   "execution_count": 21,
   "id": "3c58d429-00e1-4fd6-9cf7-70757b298644",
   "metadata": {},
   "outputs": [],
   "source": [
    "# Generate sentence embeddings for the dataset\n",
    "corpus = df['Question'].tolist()\n",
    "corpus_embeddings = model.encode(corpus, convert_to_tensor=True)"
   ]
  },
  {
   "cell_type": "code",
   "execution_count": 22,
   "id": "71be6ce9-2160-46d3-b365-b238ac049667",
   "metadata": {},
   "outputs": [],
   "source": [
    "from sklearn.metrics.pairwise import cosine_similarity\n",
    "\n",
    "def find_most_similar_question(user_input, corpus, corpus_embeddings):\n",
    "    # Encode the user input\n",
    "    user_input_embedding = model.encode(user_input, convert_to_tensor=True)\n",
    "    \n",
    "    # Reshape user_input_embedding to a 2D tensor\n",
    "    user_input_embedding = user_input_embedding.reshape(1, -1)\n",
    "\n",
    "    # Calculate the cosine similarity between the user input and each sentence in the corpus\n",
    "    similarities = cosine_similarity(user_input_embedding, corpus_embeddings)\n",
    "\n",
    "    # Find the index of the most similar sentence\n",
    "    most_similar_idx = np.argmax(similarities)\n",
    "\n",
    "    # Return the most similar question\n",
    "    return corpus[most_similar_idx]\n"
   ]
  },
  {
   "cell_type": "code",
   "execution_count": 23,
   "id": "d0693f4e-e676-4149-807b-2916214875c5",
   "metadata": {},
   "outputs": [],
   "source": [
    "def find_answer(most_similar_question):\n",
    "    # Find the answer corresponding to the most similar question in the dataset\n",
    "    answer = df.loc[df['Question'] == most_similar_question, 'Response'].iloc[0]\n",
    "\n",
    "    # Return the answer\n",
    "    return answer"
   ]
  },
  {
   "cell_type": "code",
   "execution_count": 30,
   "id": "9ce7c26a-5cee-4b15-b7a5-ccf921e042c2",
   "metadata": {},
   "outputs": [],
   "source": [
    "def chatbot():\n",
    "    # Get user input\n",
    "    user_input = input(\"USER: \")\n",
    "\n",
    "    # Find the most similar question in the dataset\n",
    "    most_similar_question = find_most_similar_question(user_input, corpus, corpus_embeddings)\n",
    "\n",
    "    # Find the answer corresponding to the most similar question in the dataset\n",
    "    answer = find_answer(most_similar_question)\n",
    "\n",
    "    # Return the answer\n",
    "    print(\"BOT: \" + answer)"
   ]
  },
  {
   "cell_type": "code",
   "execution_count": 31,
   "id": "8f2d1f6c-386d-4831-a4cd-c84ada788da1",
   "metadata": {},
   "outputs": [
    {
     "name": "stdin",
     "output_type": "stream",
     "text": [
      "USER:  How do I get to my profile settings?\n"
     ]
    },
    {
     "name": "stdout",
     "output_type": "stream",
     "text": [
      "BOT:  A user is able to see which account they are logged into. They will have access to basic information and profile actions, including being able to log out or adjusting profile settings.\n"
     ]
    }
   ],
   "source": [
    "chatbot()\n"
   ]
  },
  {
   "cell_type": "code",
   "execution_count": null,
   "id": "4a9e1ee6-a3d6-4a0f-b346-1d9c8c52b12a",
   "metadata": {},
   "outputs": [],
   "source": []
  }
 ],
 "metadata": {
  "kernelspec": {
   "display_name": "Python 3 (ipykernel)",
   "language": "python",
   "name": "python3"
  },
  "language_info": {
   "codemirror_mode": {
    "name": "ipython",
    "version": 3
   },
   "file_extension": ".py",
   "mimetype": "text/x-python",
   "name": "python",
   "nbconvert_exporter": "python",
   "pygments_lexer": "ipython3",
   "version": "3.9.12"
  }
 },
 "nbformat": 4,
 "nbformat_minor": 5
}
