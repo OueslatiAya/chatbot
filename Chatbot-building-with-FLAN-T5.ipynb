{
 "cells": [
  {
   "cell_type": "code",
   "execution_count": 14,
   "id": "8b0b4794-237c-42e4-b605-75e6f19cb99d",
   "metadata": {},
   "outputs": [],
   "source": [
    "import numpy as np\n",
    "import pandas as pd\n",
    "import torch"
   ]
  },
  {
   "cell_type": "code",
   "execution_count": 15,
   "id": "754dfd71-9750-4166-8605-01ef8d7b1858",
   "metadata": {},
   "outputs": [],
   "source": [
    "df=pd.read_excel(\"QA.xlsx\")"
   ]
  },
  {
   "cell_type": "code",
   "execution_count": 16,
   "id": "dbad9fe0-8d49-4ed4-b830-0471022a151c",
   "metadata": {},
   "outputs": [
    {
     "data": {
      "text/html": [
       "<div>\n",
       "<style scoped>\n",
       "    .dataframe tbody tr th:only-of-type {\n",
       "        vertical-align: middle;\n",
       "    }\n",
       "\n",
       "    .dataframe tbody tr th {\n",
       "        vertical-align: top;\n",
       "    }\n",
       "\n",
       "    .dataframe thead th {\n",
       "        text-align: right;\n",
       "    }\n",
       "</style>\n",
       "<table border=\"1\" class=\"dataframe\">\n",
       "  <thead>\n",
       "    <tr style=\"text-align: right;\">\n",
       "      <th></th>\n",
       "      <th>Question</th>\n",
       "      <th>Response</th>\n",
       "    </tr>\n",
       "  </thead>\n",
       "  <tbody>\n",
       "    <tr>\n",
       "      <th>0</th>\n",
       "      <td>How do I access the engine?</td>\n",
       "      <td>There is a generic user login and home page a...</td>\n",
       "    </tr>\n",
       "    <tr>\n",
       "      <th>1</th>\n",
       "      <td>How can I access the engine?</td>\n",
       "      <td>There is a generic user login and home page av...</td>\n",
       "    </tr>\n",
       "    <tr>\n",
       "      <th>2</th>\n",
       "      <td>How do I get to the engine?</td>\n",
       "      <td>There is a generic user login and home page a...</td>\n",
       "    </tr>\n",
       "    <tr>\n",
       "      <th>3</th>\n",
       "      <td>what can I do to access the Aitek engine ?</td>\n",
       "      <td>There is a generic user login and home page a...</td>\n",
       "    </tr>\n",
       "    <tr>\n",
       "      <th>4</th>\n",
       "      <td>How do I open the engine?</td>\n",
       "      <td>There is a generic user login and home page a...</td>\n",
       "    </tr>\n",
       "  </tbody>\n",
       "</table>\n",
       "</div>"
      ],
      "text/plain": [
       "                                      Question  \\\n",
       "0                  How do I access the engine?   \n",
       "1                 How can I access the engine?   \n",
       "2                  How do I get to the engine?   \n",
       "3   what can I do to access the Aitek engine ?   \n",
       "4                    How do I open the engine?   \n",
       "\n",
       "                                            Response  \n",
       "0   There is a generic user login and home page a...  \n",
       "1  There is a generic user login and home page av...  \n",
       "2   There is a generic user login and home page a...  \n",
       "3   There is a generic user login and home page a...  \n",
       "4   There is a generic user login and home page a...  "
      ]
     },
     "execution_count": 16,
     "metadata": {},
     "output_type": "execute_result"
    }
   ],
   "source": [
    "df.head()"
   ]
  },
  {
   "cell_type": "code",
   "execution_count": 17,
   "id": "13f76b0d-ea15-409d-8b26-a2ede6af4d14",
   "metadata": {},
   "outputs": [],
   "source": [
    "from transformers import AutoTokenizer, AutoModel"
   ]
  },
  {
   "cell_type": "code",
   "execution_count": 18,
   "id": "ad057681-0962-4e5d-893c-b800c6c226eb",
   "metadata": {},
   "outputs": [
    {
     "name": "stderr",
     "output_type": "stream",
     "text": [
      "Some weights of the model checkpoint at FLAN-T5 model were not used when initializing LongformerModel: ['qa_outputs.weight', 'qa_outputs.bias']\n",
      "- This IS expected if you are initializing LongformerModel from the checkpoint of a model trained on another task or with another architecture (e.g. initializing a BertForSequenceClassification model from a BertForPreTraining model).\n",
      "- This IS NOT expected if you are initializing LongformerModel from the checkpoint of a model that you expect to be exactly identical (initializing a BertForSequenceClassification model from a BertForSequenceClassification model).\n"
     ]
    }
   ],
   "source": [
    "# Load the pre-trained FLAN-T5 model and tokenizer\n",
    "model_path = \"FLAN-T5 model\"\n",
    "tokenizer = AutoTokenizer.from_pretrained(model_path)\n",
    "model = AutoModel.from_pretrained(model_path)"
   ]
  },
  {
   "cell_type": "code",
   "execution_count": 21,
   "id": "ebd7d8d2-5c6a-41d5-b68c-9df04013a8eb",
   "metadata": {
    "tags": []
   },
   "outputs": [
    {
     "name": "stderr",
     "output_type": "stream",
     "text": [
      "Asking to truncate to max_length but no maximum length is provided and the model has no predefined maximum length. Default to no truncation.\n"
     ]
    }
   ],
   "source": [
    "# Generate sentence embeddings for the dataset\n",
    "corpus = df['Question'].tolist()\n",
    "corpus_embeddings = []\n",
    "batch_size = 20\n",
    "for i in range(0, len(corpus), batch_size):\n",
    "    batch = corpus[i:i+batch_size]\n",
    "    inputs = tokenizer.batch_encode_plus(batch, add_special_tokens=True, padding=True, truncation=True, return_tensors='pt')\n",
    "    with torch.no_grad():\n",
    "        embeddings = model(**inputs)[0][:, 0, :].numpy()\n",
    "    corpus_embeddings.append(embeddings)\n",
    "corpus_embeddings = np.concatenate(corpus_embeddings, axis=0)"
   ]
  },
  {
   "cell_type": "code",
   "execution_count": 22,
   "id": "3c58d429-00e1-4fd6-9cf7-70757b298644",
   "metadata": {},
   "outputs": [],
   "source": [
    "from sklearn.metrics.pairwise import cosine_similarity\n",
    "\n",
    "def find_most_similar_question(user_input, corpus, corpus_embeddings):\n",
    "    # Encode the user input\n",
    "    input_ids = torch.tensor([tokenizer.encode(user_input, add_special_tokens=True)])\n",
    "    with torch.no_grad():\n",
    "        user_input_embedding = model(input_ids)[0][:, 0, :].numpy()\n",
    "\n",
    "    # Calculate the cosine similarity between the user input and each sentence in the corpus\n",
    "    similarities = cosine_similarity(user_input_embedding, corpus_embeddings)\n",
    "\n",
    "    # Find the index of the most similar sentence\n",
    "    most_similar_idx = np.argmax(similarities)\n",
    "\n",
    "    # Return the most similar question\n",
    "    return corpus[most_similar_idx]"
   ]
  },
  {
   "cell_type": "code",
   "execution_count": 23,
   "id": "71be6ce9-2160-46d3-b365-b238ac049667",
   "metadata": {},
   "outputs": [],
   "source": [
    "def find_answer(most_similar_question):\n",
    "    # Find the answer corresponding to the most similar question in the dataset\n",
    "    answer = df.loc[df['Question'] == most_similar_question, 'Response'].iloc[0]\n",
    "\n",
    "    # Return the answer\n",
    "    return answer\n"
   ]
  },
  {
   "cell_type": "code",
   "execution_count": 24,
   "id": "9ce7c26a-5cee-4b15-b7a5-ccf921e042c2",
   "metadata": {},
   "outputs": [],
   "source": [
    "def chatbot():\n",
    "    # Get user input\n",
    "    user_input = input(\"USER: \")\n",
    "\n",
    "    # Find the most similar question in the dataset\n",
    "    most_similar_question = find_most_similar_question(user_input, corpus, corpus_embeddings)\n",
    "\n",
    "    # Find the answer corresponding to the most similar question in the dataset\n",
    "    answer = find_answer(most_similar_question)\n",
    "\n",
    "    # Return the answer\n",
    "    print(\"BOT: \" + answer)"
   ]
  },
  {
   "cell_type": "code",
   "execution_count": 27,
   "id": "8f2d1f6c-386d-4831-a4cd-c84ada788da1",
   "metadata": {},
   "outputs": [
    {
     "name": "stdin",
     "output_type": "stream",
     "text": [
      "USER:   How I change my profile settings\n"
     ]
    },
    {
     "name": "stdout",
     "output_type": "stream",
     "text": [
      "BOT:  A user can see which account is logged in. They have access to basic information and profile actions, for example logging out or tweaking profile settings.\n"
     ]
    }
   ],
   "source": [
    "chatbot()\n"
   ]
  },
  {
   "cell_type": "code",
   "execution_count": null,
   "id": "4a9e1ee6-a3d6-4a0f-b346-1d9c8c52b12a",
   "metadata": {},
   "outputs": [],
   "source": []
  }
 ],
 "metadata": {
  "kernelspec": {
   "display_name": "Python 3 (ipykernel)",
   "language": "python",
   "name": "python3"
  },
  "language_info": {
   "codemirror_mode": {
    "name": "ipython",
    "version": 3
   },
   "file_extension": ".py",
   "mimetype": "text/x-python",
   "name": "python",
   "nbconvert_exporter": "python",
   "pygments_lexer": "ipython3",
   "version": "3.9.12"
  }
 },
 "nbformat": 4,
 "nbformat_minor": 5
}
